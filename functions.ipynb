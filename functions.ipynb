{
 "cells": [
  {
   "cell_type": "code",
   "execution_count": 2,
   "id": "7c1b59a9-c1c5-4fcb-b4f4-35aed31b803d",
   "metadata": {},
   "outputs": [],
   "source": [
    "def sum():\n",
    "    print (\"hello\")"
   ]
  },
  {
   "cell_type": "code",
   "execution_count": 3,
   "id": "f1461e75-1da7-418a-9266-39609429c8d9",
   "metadata": {},
   "outputs": [
    {
     "name": "stdout",
     "output_type": "stream",
     "text": [
      "hello\n"
     ]
    }
   ],
   "source": [
    "sum()"
   ]
  },
  {
   "cell_type": "code",
   "execution_count": 4,
   "id": "319fd6be-781c-41f7-bb1b-75f85e578c05",
   "metadata": {},
   "outputs": [],
   "source": [
    "def sum1(a,b):\n",
    "    return a+b"
   ]
  },
  {
   "cell_type": "code",
   "execution_count": 5,
   "id": "75f48e38-73cd-4c17-91ab-16dd9ec928b4",
   "metadata": {},
   "outputs": [
    {
     "data": {
      "text/plain": [
       "7"
      ]
     },
     "execution_count": 5,
     "metadata": {},
     "output_type": "execute_result"
    }
   ],
   "source": [
    "sum1(3,4)"
   ]
  },
  {
   "cell_type": "code",
   "execution_count": 6,
   "id": "78f6c0bb-1508-4a05-bfe9-eed66fe56b9b",
   "metadata": {},
   "outputs": [],
   "source": [
    "def add(b,t):\n",
    "    c=b+t\n",
    "    return c"
   ]
  },
  {
   "cell_type": "code",
   "execution_count": 7,
   "id": "f7ef5ab9-3535-4229-b173-34d523ce828e",
   "metadata": {},
   "outputs": [
    {
     "data": {
      "text/plain": [
       "11"
      ]
     },
     "execution_count": 7,
     "metadata": {},
     "output_type": "execute_result"
    }
   ],
   "source": [
    "add(5,6)"
   ]
  },
  {
   "cell_type": "markdown",
   "id": "8589660c-137c-4422-a1ac-449f098db5a6",
   "metadata": {},
   "source": [
    "#create a function which will take as a input and give me a final test with all the numberic number"
   ]
  },
  {
   "cell_type": "code",
   "execution_count": 12,
   "id": "d12def88-dd36-439e-a91b-6454e57b6b99",
   "metadata": {},
   "outputs": [],
   "source": [
    "n=[1,2,3,4,5,\"a,d,b,\",[1,2,3]]"
   ]
  },
  {
   "cell_type": "code",
   "execution_count": 13,
   "id": "51c70e41-f1b7-4e7e-9c34-61c5b4fc2c9b",
   "metadata": {},
   "outputs": [],
   "source": [
    "def fun1(a):\n",
    "    n=[]\n",
    "    for i in a:\n",
    "        if type(i)==int or type(i)==float:\n",
    "            n.append(i)\n",
    "    return n"
   ]
  },
  {
   "cell_type": "code",
   "execution_count": 10,
   "id": "471e21ef-00ff-4c20-9bcc-e0b51d733dcf",
   "metadata": {},
   "outputs": [
    {
     "data": {
      "text/plain": [
       "[]"
      ]
     },
     "execution_count": 10,
     "metadata": {},
     "output_type": "execute_result"
    }
   ],
   "source": [
    "fun1()"
   ]
  },
  {
   "cell_type": "code",
   "execution_count": 11,
   "id": "c4c7de8b-b0cf-47f0-8a46-152f85cd5bb8",
   "metadata": {},
   "outputs": [
    {
     "data": {
      "text/plain": [
       "[1, 2, 3, 4, 5, 'a,d,b,', [1, 2, 3]]"
      ]
     },
     "execution_count": 11,
     "metadata": {},
     "output_type": "execute_result"
    }
   ],
   "source": [
    "n"
   ]
  },
  {
   "cell_type": "code",
   "execution_count": 14,
   "id": "3a2e596e-3ecf-4aae-a7c2-225cca7f0bed",
   "metadata": {},
   "outputs": [
    {
     "ename": "TypeError",
     "evalue": "fun1() takes 0 positional arguments but 6 were given",
     "output_type": "error",
     "traceback": [
      "\u001b[0;31m---------------------------------------------------------------------------\u001b[0m",
      "\u001b[0;31mTypeError\u001b[0m                                 Traceback (most recent call last)",
      "Cell \u001b[0;32mIn[14], line 1\u001b[0m\n\u001b[0;32m----> 1\u001b[0m \u001b[43mfun1\u001b[49m\u001b[43m(\u001b[49m\u001b[38;5;241;43m1\u001b[39;49m\u001b[43m,\u001b[49m\u001b[38;5;241;43m23\u001b[39;49m\u001b[43m,\u001b[49m\u001b[38;5;241;43m3\u001b[39;49m\u001b[43m,\u001b[49m\u001b[38;5;241;43m45\u001b[39;49m\u001b[43m,\u001b[49m\u001b[38;5;124;43m\"\u001b[39;49m\u001b[38;5;124;43mmin\u001b[39;49m\u001b[38;5;124;43m\"\u001b[39;49m\u001b[43m,\u001b[49m\u001b[43m[\u001b[49m\u001b[38;5;241;43m1\u001b[39;49m\u001b[43m,\u001b[49m\u001b[38;5;241;43m2\u001b[39;49m\u001b[43m,\u001b[49m\u001b[38;5;241;43m3\u001b[39;49m\u001b[43m]\u001b[49m\u001b[43m)\u001b[49m\n",
      "\u001b[0;31mTypeError\u001b[0m: fun1() takes 0 positional arguments but 6 were given"
     ]
    }
   ],
   "source": [
    "fun1(1,23,3,45,\"min\",[1,2,3])"
   ]
  },
  {
   "cell_type": "code",
   "execution_count": 15,
   "id": "82cd4a13-a6d3-4185-b879-e2d6fa4f693c",
   "metadata": {},
   "outputs": [],
   "source": [
    "a=[1,2,3,4,5,\"a,d,b,\",[1,2,3]]"
   ]
  },
  {
   "cell_type": "code",
   "execution_count": 16,
   "id": "b0bf1c59-da74-453a-8ae5-7758b26d7c29",
   "metadata": {},
   "outputs": [
    {
     "ename": "TypeError",
     "evalue": "fun1() takes 0 positional arguments but 1 was given",
     "output_type": "error",
     "traceback": [
      "\u001b[0;31m---------------------------------------------------------------------------\u001b[0m",
      "\u001b[0;31mTypeError\u001b[0m                                 Traceback (most recent call last)",
      "Cell \u001b[0;32mIn[16], line 1\u001b[0m\n\u001b[0;32m----> 1\u001b[0m \u001b[43mfun1\u001b[49m\u001b[43m(\u001b[49m\u001b[43ma\u001b[49m\u001b[43m)\u001b[49m\n",
      "\u001b[0;31mTypeError\u001b[0m: fun1() takes 0 positional arguments but 1 was given"
     ]
    }
   ],
   "source": [
    "fun1(a)"
   ]
  },
  {
   "cell_type": "code",
   "execution_count": 17,
   "id": "98145f93-63f6-48f6-8a5d-34582c6d6cb7",
   "metadata": {},
   "outputs": [
    {
     "data": {
      "text/plain": [
       "[]"
      ]
     },
     "execution_count": 17,
     "metadata": {},
     "output_type": "execute_result"
    }
   ],
   "source": [
    "fun1()"
   ]
  },
  {
   "cell_type": "code",
   "execution_count": null,
   "id": "10e1774a-5ba8-4ff6-9456-a8bc9029834c",
   "metadata": {},
   "outputs": [],
   "source": []
  }
 ],
 "metadata": {
  "kernelspec": {
   "display_name": "Python 3 (ipykernel)",
   "language": "python",
   "name": "python3"
  },
  "language_info": {
   "codemirror_mode": {
    "name": "ipython",
    "version": 3
   },
   "file_extension": ".py",
   "mimetype": "text/x-python",
   "name": "python",
   "nbconvert_exporter": "python",
   "pygments_lexer": "ipython3",
   "version": "3.10.8"
  }
 },
 "nbformat": 4,
 "nbformat_minor": 5
}
